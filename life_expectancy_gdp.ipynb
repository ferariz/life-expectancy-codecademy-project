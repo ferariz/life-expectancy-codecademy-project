{
 "cells": [
  {
   "cell_type": "markdown",
   "metadata": {},
   "source": [
    "# Life expectancy project from Codecademy\n",
    "\n",
    "This is a notebook for the life expectancy project of the Codecademy Data Science Machine Learning career path."
   ]
  },
  {
   "cell_type": "code",
   "execution_count": 1,
   "metadata": {},
   "outputs": [],
   "source": [
    "import numpy as np\n",
    "import pandas as pd\n",
    "import matplotlib.pyplot as plt\n"
   ]
  },
  {
   "cell_type": "code",
   "execution_count": 2,
   "metadata": {},
   "outputs": [],
   "source": [
    "# load the data\n",
    "df = pd.read_csv('all_data.csv')"
   ]
  },
  {
   "cell_type": "code",
   "execution_count": 3,
   "metadata": {},
   "outputs": [
    {
     "data": {
      "text/html": [
       "<div>\n",
       "<style scoped>\n",
       "    .dataframe tbody tr th:only-of-type {\n",
       "        vertical-align: middle;\n",
       "    }\n",
       "\n",
       "    .dataframe tbody tr th {\n",
       "        vertical-align: top;\n",
       "    }\n",
       "\n",
       "    .dataframe thead th {\n",
       "        text-align: right;\n",
       "    }\n",
       "</style>\n",
       "<table border=\"1\" class=\"dataframe\">\n",
       "  <thead>\n",
       "    <tr style=\"text-align: right;\">\n",
       "      <th></th>\n",
       "      <th>Country</th>\n",
       "      <th>Year</th>\n",
       "      <th>Life expectancy at birth (years)</th>\n",
       "      <th>GDP</th>\n",
       "    </tr>\n",
       "  </thead>\n",
       "  <tbody>\n",
       "    <tr>\n",
       "      <th>0</th>\n",
       "      <td>Chile</td>\n",
       "      <td>2000</td>\n",
       "      <td>77.3</td>\n",
       "      <td>7.786093e+10</td>\n",
       "    </tr>\n",
       "    <tr>\n",
       "      <th>1</th>\n",
       "      <td>Chile</td>\n",
       "      <td>2001</td>\n",
       "      <td>77.3</td>\n",
       "      <td>7.097992e+10</td>\n",
       "    </tr>\n",
       "    <tr>\n",
       "      <th>2</th>\n",
       "      <td>Chile</td>\n",
       "      <td>2002</td>\n",
       "      <td>77.8</td>\n",
       "      <td>6.973681e+10</td>\n",
       "    </tr>\n",
       "    <tr>\n",
       "      <th>3</th>\n",
       "      <td>Chile</td>\n",
       "      <td>2003</td>\n",
       "      <td>77.9</td>\n",
       "      <td>7.564346e+10</td>\n",
       "    </tr>\n",
       "    <tr>\n",
       "      <th>4</th>\n",
       "      <td>Chile</td>\n",
       "      <td>2004</td>\n",
       "      <td>78.0</td>\n",
       "      <td>9.921039e+10</td>\n",
       "    </tr>\n",
       "  </tbody>\n",
       "</table>\n",
       "</div>"
      ],
      "text/plain": [
       "  Country  Year  Life expectancy at birth (years)           GDP\n",
       "0   Chile  2000                              77.3  7.786093e+10\n",
       "1   Chile  2001                              77.3  7.097992e+10\n",
       "2   Chile  2002                              77.8  6.973681e+10\n",
       "3   Chile  2003                              77.9  7.564346e+10\n",
       "4   Chile  2004                              78.0  9.921039e+10"
      ]
     },
     "execution_count": 3,
     "metadata": {},
     "output_type": "execute_result"
    }
   ],
   "source": [
    "# begin with the EDA\n",
    "df.head()"
   ]
  },
  {
   "cell_type": "code",
   "execution_count": 4,
   "metadata": {},
   "outputs": [
    {
     "data": {
      "text/plain": [
       "<bound method DataFrame.info of      Country  Year  Life expectancy at birth (years)           GDP\n",
       "0      Chile  2000                              77.3  7.786093e+10\n",
       "1      Chile  2001                              77.3  7.097992e+10\n",
       "2      Chile  2002                              77.8  6.973681e+10\n",
       "3      Chile  2003                              77.9  7.564346e+10\n",
       "4      Chile  2004                              78.0  9.921039e+10\n",
       "..       ...   ...                               ...           ...\n",
       "91  Zimbabwe  2011                              54.9  1.209845e+10\n",
       "92  Zimbabwe  2012                              56.6  1.424249e+10\n",
       "93  Zimbabwe  2013                              58.0  1.545177e+10\n",
       "94  Zimbabwe  2014                              59.2  1.589105e+10\n",
       "95  Zimbabwe  2015                              60.7  1.630467e+10\n",
       "\n",
       "[96 rows x 4 columns]>"
      ]
     },
     "execution_count": 4,
     "metadata": {},
     "output_type": "execute_result"
    }
   ],
   "source": [
    "df.info"
   ]
  },
  {
   "cell_type": "code",
   "execution_count": 20,
   "metadata": {},
   "outputs": [
    {
     "data": {
      "text/plain": [
       "Index(['Country', 'Year', 'Life_expectancy', 'GDP'], dtype='object')"
      ]
     },
     "execution_count": 20,
     "metadata": {},
     "output_type": "execute_result"
    }
   ],
   "source": [
    "df.columns = ['Country', 'Year', 'Life_expectancy', 'GDP']\n",
    "df.columns"
   ]
  },
  {
   "cell_type": "code",
   "execution_count": 5,
   "metadata": {},
   "outputs": [
    {
     "data": {
      "text/plain": [
       "Chile                       16\n",
       "China                       16\n",
       "Germany                     16\n",
       "Mexico                      16\n",
       "United States of America    16\n",
       "Zimbabwe                    16\n",
       "Name: Country, dtype: int64"
      ]
     },
     "execution_count": 5,
     "metadata": {},
     "output_type": "execute_result"
    }
   ],
   "source": [
    "df.Country.value_counts()"
   ]
  },
  {
   "cell_type": "code",
   "execution_count": 6,
   "metadata": {},
   "outputs": [
    {
     "data": {
      "text/plain": [
       "Country\n",
       "Chile                       78.94375\n",
       "China                       74.26250\n",
       "Germany                     79.65625\n",
       "Mexico                      75.71875\n",
       "United States of America    78.06250\n",
       "Zimbabwe                    50.09375\n",
       "Name: Life expectancy at birth (years), dtype: float64"
      ]
     },
     "execution_count": 6,
     "metadata": {},
     "output_type": "execute_result"
    }
   ],
   "source": [
    "df2 = df.groupby(['Country'])['Life expectancy at birth (years)'].mean()\n",
    "df2.head(15)"
   ]
  },
  {
   "cell_type": "code",
   "execution_count": 21,
   "metadata": {},
   "outputs": [
    {
     "data": {
      "text/plain": [
       "<AxesSubplot:xlabel='Year', ylabel='Life_expectancy'>"
      ]
     },
     "execution_count": 21,
     "metadata": {},
     "output_type": "execute_result"
    },
    {
     "data": {
      "image/png": "[encoded data removed]",
      "text/plain": [
       "<Figure size 432x288 with 1 Axes>"
      ]
     },
     "metadata": {
      "needs_background": "light"
     },
     "output_type": "display_data"
    }
   ],
   "source": [
    "import seaborn as sns\n",
    "sns.barplot(x=\"Year\", y=\"Life_expectancy\", data=df)"
   ]
  },
  {
   "cell_type": "markdown",
   "metadata": {},
   "source": [
    "## Life expectancy evolution in each country"
   ]
  },
  {
   "cell_type": "code",
   "execution_count": 42,
   "metadata": {},
   "outputs": [
    {
     "name": "stdout",
     "output_type": "stream",
     "text": [
      "[[77.3 77.3 77.8 77.9 78.  78.4 78.9 78.9 79.6 79.3 79.1 79.8 79.9 80.1\n",
      "  80.3 80.5]\n",
      " [71.7 72.2 72.7 73.1 73.5 73.9 74.2 74.4 74.5 74.9 75.  75.2 75.4 75.6\n",
      "  75.8 76.1]\n",
      " [78.  78.3 78.4 78.5 79.1 79.2 79.6 79.8 79.9 80.  80.1 80.5 80.6 80.6\n",
      "  80.9 81. ]\n",
      " [74.8 75.  75.  75.  75.4 75.3 75.8 76.  75.6 75.7 75.6 76.1 76.3 76.6\n",
      "  76.6 76.7]\n",
      " [76.8 76.9 77.  77.2 77.5 77.5 77.8 78.1 78.2 78.5 78.7 78.7 78.8 78.9\n",
      "  79.1 79.3]\n",
      " [46.  45.3 44.8 44.5 44.3 44.6 45.4 46.6 48.2 50.  52.4 54.9 56.6 58.\n",
      "  59.2 60.7]]\n"
     ]
    }
   ],
   "source": [
    "# calculate the evolution of life expectancy in each country\n",
    "countries = df['Country'].unique()\n",
    "\n",
    "life_expectancy_evolution = np.zeros((len(countries), 16))\n",
    "for i in range(len(countries)):\n",
    "    for j in range(16):\n",
    "        life_expectancy_evolution[i, j] = df[(df['Country'] == countries[i]) & (df['Year'] == 2000 + j)].iloc[0]['Life_expectancy'] \n",
    "print(life_expectancy_evolution)"
   ]
  },
  {
   "cell_type": "code",
   "execution_count": 44,
   "metadata": {},
   "outputs": [
    {
     "data": {
      "text/plain": [
       "Text(0, 0.5, 'Life expectancy at birth (years)')"
      ]
     },
     "execution_count": 44,
     "metadata": {},
     "output_type": "execute_result"
    },
    {
     "data": {
      "image/png": "[encoded data removed]",
      "text/plain": [
       "<Figure size 432x288 with 1 Axes>"
      ]
     },
     "metadata": {
      "needs_background": "light"
     },
     "output_type": "display_data"
    }
   ],
   "source": [
    "plt.figure()\n",
    "for i in range(len(countries)):\n",
    "    plt.plot(range(2000,2016), life_expectancy_evolution[i,:], label = countries[i])\n",
    "plt.legend()\n",
    "plt.xlabel('Years')\n",
    "plt.ylabel('Life expectancy at birth (years)')"
   ]
  }
 ],
 "metadata": {
  "kernelspec": {
   "display_name": "Python 3 (ipykernel)",
   "language": "python",
   "name": "python3"
  },
  "language_info": {
   "codemirror_mode": {
    "name": "ipython",
    "version": 3
   },
   "file_extension": ".py",
   "mimetype": "text/x-python",
   "name": "python",
   "nbconvert_exporter": "python",
   "pygments_lexer": "ipython3",
   "version": "3.9.7"
  }
 },
 "nbformat": 4,
 "nbformat_minor": 4
}
